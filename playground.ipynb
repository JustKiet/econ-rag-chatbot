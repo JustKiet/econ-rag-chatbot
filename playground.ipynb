{
 "cells": [
  {
   "cell_type": "code",
   "execution_count": 25,
   "metadata": {},
   "outputs": [
    {
     "data": {
      "text/plain": [
       "True"
      ]
     },
     "execution_count": 25,
     "metadata": {},
     "output_type": "execute_result"
    }
   ],
   "source": [
    "from dotenv import load_dotenv\n",
    "import os\n",
    "\n",
    "load_dotenv()"
   ]
  },
  {
   "cell_type": "code",
   "execution_count": 26,
   "metadata": {},
   "outputs": [],
   "source": [
    "from langchain_core.documents.base import Document\n",
    "from typing import List, Dict, Any\n",
    "from langchain_text_splitters import CharacterTextSplitter\n",
    "from langchain_openai import ChatOpenAI, OpenAIEmbeddings\n",
    "from langchain_community.vectorstores import FAISS\n",
    "import faiss\n",
    "from langchain_core.output_parsers.string import StrOutputParser\n",
    "from langchain_core.runnables.passthrough import RunnablePassthrough\n",
    "from langchain import hub\n",
    "from langchain.chains import create_retrieval_chain\n",
    "from langchain.chains.combine_documents import create_stuff_documents_chain"
   ]
  },
  {
   "cell_type": "code",
   "execution_count": 27,
   "metadata": {},
   "outputs": [],
   "source": [
    "from langchain_community.document_loaders import PyPDFLoader\n",
    "loader = PyPDFLoader(\n",
    "    \"./docs.pdf\",\n",
    ")"
   ]
  },
  {
   "cell_type": "code",
   "execution_count": 30,
   "metadata": {},
   "outputs": [],
   "source": [
    "def pdf_preprocess(docs: List[Document]):\n",
    "    splitter = CharacterTextSplitter.from_tiktoken_encoder(\n",
    "        encoding_name=\"cl100k_base\",\n",
    "        chunk_size=4000,\n",
    "        chunk_overlap=200,\n",
    "    )\n",
    "\n",
    "    text = splitter.split_documents(docs)\n",
    "\n",
    "    return text"
   ]
  },
  {
   "cell_type": "code",
   "execution_count": 42,
   "metadata": {},
   "outputs": [],
   "source": [
    "class RAGPipeline:\n",
    "    def __init__(self, file_path: str, \n",
    "                 model: str = \"gpt-4o-mini\", \n",
    "                 temperature: float = 0, \n",
    "                 embedding_model: str = \"text-embedding-3-large\",\n",
    "                 from_local: str = None):\n",
    "        \n",
    "        self.embeddings = OpenAIEmbeddings(\n",
    "                api_key=os.getenv(\"OPENAI_API_KEY\"),\n",
    "                model=embedding_model,\n",
    "        )\n",
    "        \n",
    "        if from_local:\n",
    "            self.vectorstore = FAISS.load_local(\n",
    "                folder_path=from_local,\n",
    "                embeddings=self.embeddings,\n",
    "                allow_dangerous_deserialization=True,)\n",
    "            \n",
    "            self.text = self.vectorstore.documents\n",
    "        else:\n",
    "            self.document = PyPDFLoader(file_path).load()\n",
    "\n",
    "            self.text = self.pdf_preprocess()\n",
    "\n",
    "            self.model = ChatOpenAI(\n",
    "                api_key=os.getenv(\"OPENAI_API_KEY\"),\n",
    "                model=model,\n",
    "                temperature=temperature,\n",
    "            )\n",
    "\n",
    "            self.vectorstore = FAISS.from_documents(\n",
    "                documents=self.text,\n",
    "                embedding=self.embeddings,\n",
    "            )\n",
    "\n",
    "        self.prompt = hub.pull(\"langchain-ai/retrieval-qa-chat\")\n",
    "\n",
    "        self.combine_docs_chain = create_stuff_documents_chain(self.model, self.prompt)\n",
    "        self.chain = create_retrieval_chain(self.vectorstore.as_retriever(), self.combine_docs_chain)\n",
    "\n",
    "\n",
    "    def pdf_preprocess(self) -> List[Document]:\n",
    "        splitter = CharacterTextSplitter.from_tiktoken_encoder(\n",
    "            encoding_name=\"cl100k_base\",\n",
    "            chunk_size=4000,\n",
    "            chunk_overlap=200,\n",
    "        )\n",
    "\n",
    "        splits = splitter.split_documents(self.document)\n",
    "\n",
    "        return splits\n",
    "    \n",
    "    def save_vectorstore(self, path: str):\n",
    "        self.vectorstore.save_local(path)\n",
    "        return path"
   ]
  },
  {
   "cell_type": "code",
   "execution_count": 43,
   "metadata": {},
   "outputs": [],
   "source": [
    "retriever = RAGPipeline(\"./docs.pdf\")"
   ]
  },
  {
   "cell_type": "code",
   "execution_count": 45,
   "metadata": {},
   "outputs": [
    {
     "data": {
      "text/plain": [
       "'./vectorstore'"
      ]
     },
     "execution_count": 45,
     "metadata": {},
     "output_type": "execute_result"
    }
   ],
   "source": [
    "retriever.save_vectorstore(\"./vectorstore\")"
   ]
  },
  {
   "cell_type": "code",
   "execution_count": 46,
   "metadata": {},
   "outputs": [
    {
     "data": {
      "text/plain": [
       "{'input': 'Tình hình tài chính là gì?',\n",
       " 'context': [Document(metadata={'source': './docs.pdf', 'page': 109}, page_content='Chương 3\\nĐÁNH GIÁ KHÁI QUÁT TÌNH HÌNH TÀI CHÍNH\\n3.1. TÌN H  HÌNH TÀ I C H ÍN H  VÀ YẼU CÀU, MỤC Đ ÍC H  ĐÁNH GIÁ \\nKHÁI Q U Á T  TÌNH HÌNH TÀI CHÍNH CỦA DO A N H  NGHIỆP\\n3.1.1. Tình hình tài chính\\nTinh hình tài chính của doanh nghiệp thê hiện tình trạng hay thực trạng \\ntài chính cùa doanh nghiệp tại một thời điêm. Tình hinh tài chính của doanh \\nnghiệp tốt hay xâu, khả quan hay bi đát thể hiện rò nét chất lượng cùa toàn \\nbộ hoạt động mà doanh nghiệp đã tiến hành. Nói cách khác, tình hình tài \\nchính của doanh nghiệp thể hiện sự tồn tại cũng như nỗ lực của doanh \\nnghiệp trên mọi mặt hoạt động, là kết quà tất yếu của mọi hoạt động mà \\ndoanh nghiệp thực hiện. Dựa vào tình hình tài chính doanh nghiệp, các nhà \\nquán lý biết được tình trạng tài chính hay trạng thái tài chính cụ thể cũng \\nnhư xu thế phát triển của doanh nghiệp cà về an ninh tài chính, về mức độ \\nđộc lập tài chính, về chính sách huy động và sử dụng vốn, về tình hình và \\nkha nâng thanh toán. Đồng thời, cũng qua xem xét tình hình tài chính hiện \\ntại, các nhà quàn lý có thề dự báo đuợc những chi tiêu tài chính chủ yếu \\ntrong tương lai, dự báo được những thuận lợi hay khó khãn mà doanh \\nnghiệp có thể phải đương đầu.\\nKhông giống như hoạt động tài chính của doanh nghiệp là những hoạt \\nđộng có liên quan đến việc thay đổi về quy mô và kết cấu cùa vốn chủ sở \\nhữu và vốn vay cùa doanh nghiệp như: hoạt động phát hành hay mua lại cổ \\nphiếu, trái phiếu; hoạt động vay và trả nợ vay; hoạt động chi trả cổ tức và \\ncác hoạt động khác làm thay đổi cấu trúc tài chính cùa doanh nghiệp (chi \\ntiêu các quĩ doanh nghiệp, nhận và trà vốn góp. chi trả nợ thuê tài c h ín h ,...), \\ntình hình tài chính của doanh nghiệp thể hiện tình trạng hay thực trạng tài \\nchính của doanh nghiệp tại một thời điểm, phàn ánh kết quả của toàn bộ các \\nhoạt động mà doanh nghiệp tiến hành: trong khi đó. hoạt động tài chính chi \\nliên quan đến việc xác định nhu cầu; tạo lập. tìm kiếm, huy động và sừ dụng \\nsố vốn đã huy động một cách hợp lý, có hiệu quà. v ề  bản chất, hoạt động tài \\nchính là những hoạt động gắn với sự vận động và chuyển hóa các nguồn lực\\n109'),\n",
       "  Document(metadata={'source': './docs.pdf', 'page': 110}, page_content='tài chính, tạo ra sự chuyên dịch giá trị trong quá trình kinh doanh của doanh \\nnghiệp và làm thay đổi càu trúc tài chính doanh nghiệp.\\nNhư vậy. hoạt động tài chính hoàn toàn khác với tình hình tài chính \\ndoanh nghiệp. Tình hình tài chính cùa doanh nghiệp chịu ảnh hường của \\ntoàn bộ các hoạt động mà doanh nghiệp tiến hành, trong đó có hoạt động tài \\nchính. Hoạt động tài chính tốt sẽ góp phần làm lành mạnh tình hình tài \\nchính doanh nghiệp và ngược lại, tình hỉnh tài chính doanh nghiệp khả quan \\nsẽ là điều kiện thuận lợi thúc đẩy hoạt động tài chính cỏ hiệu quà.\\nTình hình tài chính giống nhu một bức tranh tổng thể phản ánh kết quà \\ncùa toàn bộ các hoạt động mà doanh nghiệp tiến hành, bao gồm cà hoạt \\nđộng kinh doanh, hoạt động tài chính và hoạt động đầu tư. \"Bức tranh\" tài \\nchính đó \"đẹp\" hay \"xấu\" hoàn toàn phụ thuộc vào kết quà hoạt động trong \\nkỳ và thay đổi theo diễn biến của quá trình hoạt động. Tỉnh hỉnh tài chính \\ncùạ một doanh nghiệp không thể nào khả quan, sáng sủa được nếu như kết \\nquá hoạt động kinh doanh, hoạt động đầu tư và hoạt động tài chính không \\ncao. Ngược lại, tình hình tài chính của doanh nghiệp sẽ hết sức sáng sùa và \\ntôt đẹp nếu kết quà và hiệu quả hoạt động kinh doanh, hoạt động đầu tư và \\nhoạt động tài chính cao. K.hi đó, doanh nghiệp không những bảo đàm được \\nmức độ độc lập tài chính, an ninh tài chính vững vàng mà còn bào đảm một \\nkhả năng thanh toán cao, tình hình thanh toán lành mạnh, cấu trúc tài chính \\nphù hợp.\\nTừ những vấn đề nêu trên, cho thấy: tình hình tài chính của một doanh \\nnghiệp là bức tranh phản ánh trung thực và rõ nét nhất kết quả và hiệu quả \\ncùa toàn bộ các hoạt động mà doanh nghiệp tiến hành trong kỳ. Một doanh \\nnghiệp không thể có một tình trạng tài chính trong sáng, lành mạnh, một an \\nninh tài chính bền vững nếu như hoạt động kinh doanh, hoạt động tài chính \\nvà hoạt động đầu tư kém hiệu quả. Ket quả và hiệu quả hoạt động kinh \\ndoanh, hoạt động tài chính và hoạt động đầu tư cùa doanh nghiệp càng lớn, \\nkhả năng thanh toán cùa doanh nghiệp càng dồi dào, vốn chù sở hữu càng \\ntăng cà về qui mò và tỷ trọng trong tổng số vốn, mức độ độc lập tài chính \\ncàng cao, tình hình thanh toán càng lành mạnh, các khoản nợ nần dây dưa sẽ \\nkhông còn tồn tại, ... Sự yếu kém hay giảm sút về hiệu quả của bất kỳ hoạt \\nđộng nào của doanh nghiệp cũng sẽ tác động đến tình hình tài chính, làm\\nno'),\n",
       "  Document(metadata={'source': './docs.pdf', 'page': 351}, page_content='nhàm xác định thực trạng và sức mạnh tài chính cùa doanh nghiệp, biết \\nđược mức độ độc lập về mặt tài chính cũng như iuhững khó khăn về tài \\nchính mà doanh nghiệp đang phải đương đầu. nhất là lĩnh vực thanh toán. \\nQ ua đó, các nhà quàn lý có thể đề ra các quyết định cần thiết về đầu tư, hợp \\ntác, liên doanh, liên kết, mua bán, cho vay, ... Cũng như các doanh nghiệp \\ncó qui mô lớn, đánh giá khái quát tình hình tài chính trong các doanh nghiệp \\nnhỏ và vừa cũng hướng vào các mặt khác nhau cùa hoạt động tài chính như \\nđánh giá khái quát tình hình huy động vốn; đánh giá khái quát mức độ độc \\nlập tài chính; đánh giá khái quát khả năng thanh toán của doanh nghiệp và \\nđánh giá khái quát khả năng sinh lời của vốn chù sờ hữu.\\n- Phân tích cấu trúc tài chính:\\nCấu trúc tài chính của m ột doanh nghiệp phản ánh cơ cấu tài sản, cơ cấu \\nnguồn tài trợ tài sản và mối quan hệ giữa tài sản với nguồn vốn cùa doanh \\nnghiệp. Phân tích cấu trúc tài chính là việc phân tích khái quát tình hình huy \\nđộng, sứ dụng vốn và mối quan hệ giữa tình hình huy động với tình hình sử \\ndụng vốn của doanh nghiệp. Qua đó, giúp các nhà quản lý nám đuợc tình \\nhình phân bổ tài sàn và các nguồn tài trợ tài sản, biểt được nguyên nhân \\ncũng như các dấu hiệu ảnh hưởng đến cân bàng tài chỉnh. Những thông tin \\nnày sẽ là căn cứ quan trọng để các nhà quàn lý ra các quyết định điều chỉnh \\nchính sách huy động và sử dụng vốn cùa mình, bào đảm  cho doanh nghiệp \\ncó được một cấu trúc tài chính lành mạnh, hiệu quả và tránh được những rủi \\nro trong kinh doanh. Mặt khác, phân tích cấu trúc tài chính còn góp phần \\ncùng cố cho các nhận định đã rút ra khi đánh giá khái quát tình hình tài \\nchính.\\n- Phân tích cân bằng tài chính:\\nĐể đáp ứng nhu cầu về tài sản (vốn) cho hoạt độmg kinh doanh, doanh \\nnghiệp cần phải tập hợp các biện pháp tài chính cần thiết cho việc huy động, \\nhình thành nguồn vốn. Nguồn vốn của doanh nghiệp đìược hình thành trước \\nhết từ nguồn vốn của bản thân chủ sở hữu (vốn góp ban đầu và bổ sung \\ntrong quá trình kinh doanh, các quỹ doanh nghiệp (C Ó  nguồn gốc từ lợi \\nnhuận, lợi nhuận chưa phân phối, các nguồn kinh phí, nguồn vốn xây dựng \\ncơ bàn, ...). Sau nữa được hình thành từ nguồn vốn vaiy (vay ngắn hạn, dài\\n351'),\n",
       "  Document(metadata={'source': './docs.pdf', 'page': 173}, page_content='Tên khách hàngSỐ phải thu cùa khách hàng \\nđến hạnSố phái thu của khách hàng \\nquá hạn\\nĐầu kỳCuôi\\nkỳTăng, giảm\\nĐầu kỳ Cuối kỳTăng, giảm\\n+ - % + - %\\n1 2 3 4 5 6 7 8 9\\n1. Nguyễn Văn A 300 350 50 16,7 200 250 50 25\\n2. Nguyễn Thị B 100 80 -20 -20 150 180 30 20\\n3. Công ty ABC 500 450 -50 -10 400 500 100 25\\n4. Công ty EFH 800 900 100 12,5 600 800 200 33\\n5. Công ty OPQ 700 750 50 7,1 1.200 1.200 0 0\\nTổng cộng\\n«  •  Á  .2.400 2.530 130 5,4 2.550 \\n.7 r2.930 380 14,9\\nhàng đến hạn cuối kỳ tăng so với đầu kỳ là 130 triệu đồng, tương ứng 5,4%, \\nchứng tỏ quy mô tiền hàng bán chịu tăng, số phải thu quá hạn cuối kỳ tăng so \\nvới đầu kỳ là 380 triệu đồng, tương ứng là 14,9%, nhir vậy vốn của doanh \\nnghiệp bị chiếm dụng có xu hướng tăng, đây là nhân tố không tốt ảnh hưởng \\nđến tài chính của doanh nghiệp.\\nVí dụ, vẫn theo ví dụ trên, bổ sung thêm dữ liệu: cho biết tổng số phải \\nthu của công ty đầu kỳ là: 6.200 triệu đồng cuối kỳ là: 7.400 triệu đồng . Tổng \\ntài sản đầu kỳ là: 12.500 triệu đồng , cuối kỳ là: 14.600 Iriệu đồng. Hãy phân \\ntích dấu hiệu rủi ro tài chính xuất hiện.\\nChi tiêu Đầu kỳ Cuổì kỳ Chênh lệch\\n1. Tỷ trọng phải thu quá \\nhạn so với tổng phải thu2.550 „ \\n6.200 0,412-930 A  \\n1400 0,40-0,01\\n2. Tỷ trọng phải thu quá \\nhạn so với tổng tài sản\\nA , 1. ....2.550\\n12.500 0,202.930 \\n14.600 ~ \\nl . Ả  t0\\nvới tổng phải thu cuối kỳ giảm so với đầu kỳ, chi tiêu này tại hai thời điểm \\nkhoảng 40%, như vậy trong các khoản phải thu nợ quá han chiếm tỷ trọng \\nđáng kể, do vậy doanh nghiệp cần xem xét và cân nhắc thận trọng cho từng\\n173')],\n",
       " 'answer': 'Tình hình tài chính của doanh nghiệp thể hiện tình trạng hay thực trạng tài chính của doanh nghiệp tại một thời điểm cụ thể. Nó phản ánh chất lượng của toàn bộ hoạt động mà doanh nghiệp đã tiến hành, bao gồm khả năng thanh toán, mức độ độc lập tài chính, chính sách huy động và sử dụng vốn, cũng như xu thế phát triển của doanh nghiệp. Tình hình tài chính là kết quả của mọi hoạt động mà doanh nghiệp thực hiện và có thể cho thấy những thuận lợi hay khó khăn mà doanh nghiệp có thể phải đối mặt trong tương lai.'}"
      ]
     },
     "execution_count": 46,
     "metadata": {},
     "output_type": "execute_result"
    }
   ],
   "source": [
    "retriever.chain.invoke({\"input\": \"Tình hình tài chính là gì?\"})"
   ]
  }
 ],
 "metadata": {
  "kernelspec": {
   "display_name": ".venv",
   "language": "python",
   "name": "python3"
  },
  "language_info": {
   "codemirror_mode": {
    "name": "ipython",
    "version": 3
   },
   "file_extension": ".py",
   "mimetype": "text/x-python",
   "name": "python",
   "nbconvert_exporter": "python",
   "pygments_lexer": "ipython3",
   "version": "3.11.1"
  }
 },
 "nbformat": 4,
 "nbformat_minor": 2
}
